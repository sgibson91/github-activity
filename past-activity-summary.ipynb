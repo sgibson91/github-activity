{
 "cells": [
  {
   "cell_type": "code",
   "execution_count": null,
   "id": "9a5f38cc",
   "metadata": {},
   "outputs": [],
   "source": [
    "import ipywidgets as widgets\n",
    "import pandas as pd\n",
    "from IPython.core.display import HTML, display\n",
    "from ipywidgets import interact\n",
    "\n",
    "pd.set_option(\"display.max_rows\", None)\n",
    "pd.set_option(\"display.max_columns\", None)\n",
    "pd.set_option(\"display.width\", None)\n",
    "pd.set_option(\"display.max_colwidth\", None)\n",
    "\n",
    "cols_to_print = [\"number\", \"title\", \"repository\"]"
   ]
  },
  {
   "cell_type": "code",
   "execution_count": null,
   "id": "8a7da137",
   "metadata": {
    "scrolled": false
   },
   "outputs": [],
   "source": [
    "df = pd.read_csv(\"github-activity.csv\")\n",
    "\n",
    "cond = [column.startswith(\"Unnamed:\") for column in df.columns]\n",
    "for column in df.columns[cond].tolist():\n",
    "    df.drop(column, axis=1, inplace=True)\n",
    "\n",
    "desired_filters = [\"closed_last_month\", \"closed_last_week\", \"updated_last_week\"]\n",
    "new_df = pd.DataFrame()\n",
    "for desired_filter in desired_filters:\n",
    "    new_df = new_df.append(df[df[\"filter\"] == desired_filter])\n",
    "\n",
    "monthly_df = new_df[new_df[\"filter\"] == \"closed_last_month\"]\n",
    "weekly_df = new_df[new_df[\"filter\"] != \"closed_last_month\"]\n",
    "sort_columns = [\"updated_at\", \"closed_at\", \"repo_name\"]"
   ]
  },
  {
   "cell_type": "markdown",
   "id": "e4f7034c",
   "metadata": {},
   "source": [
    "# 🚀 Activity Summary\n",
    "\n",
    "## ✅ Activity in the Last Week"
   ]
  },
  {
   "cell_type": "code",
   "execution_count": null,
   "id": "c1560cd5",
   "metadata": {},
   "outputs": [],
   "source": [
    "repo_names = [\"All\"] + sorted(weekly_df[\"repo_name\"].unique().tolist())\n",
    "\n",
    "\n",
    "@interact\n",
    "def view_weekly_summmary(repo=repo_names, sort=sort_columns, sort_ascending=False):\n",
    "    if sort != \"repo_name\":\n",
    "        columns_to_print = cols_to_print + [sort]\n",
    "    else:\n",
    "        columns_to_print = cols_to_print\n",
    "\n",
    "    if repo == \"All\":\n",
    "        filtered = weekly_df.sort_values(sort, ascending=sort_ascending)[\n",
    "            columns_to_print\n",
    "        ]\n",
    "    else:\n",
    "        filtered = weekly_df.loc[monthly_df[\"repo_name\"] == repo].sort_values(\n",
    "            sort, ascending=sort_ascending\n",
    "        )[columns_to_print]\n",
    "\n",
    "    print(f\"Total: {len(filtered)}\")\n",
    "    display(HTML(filtered.to_html(escape=False)))"
   ]
  },
  {
   "cell_type": "markdown",
   "id": "e77d5083",
   "metadata": {},
   "source": [
    "## 📮 Closed in the Last Month"
   ]
  },
  {
   "cell_type": "code",
   "execution_count": null,
   "id": "ab995e70",
   "metadata": {},
   "outputs": [],
   "source": [
    "repo_names = [\"All\"] + sorted(monthly_df[\"repo_name\"].unique().tolist())\n",
    "\n",
    "\n",
    "@interact\n",
    "def view_monthly_summmary(repo=repo_names, sort=sort_columns, sort_ascending=False):\n",
    "    if sort != \"repo_name\":\n",
    "        columns_to_print = cols_to_print + [sort]\n",
    "    else:\n",
    "        columns_to_print = cols_to_print\n",
    "\n",
    "    if repo == \"All\":\n",
    "        filtered = monthly_df.sort_values(sort, ascending=sort_ascending)[\n",
    "            columns_to_print\n",
    "        ]\n",
    "    else:\n",
    "        filtered = monthly_df.loc[monthly_df[\"repo_name\"] == repo].sort_values(\n",
    "            sort, ascending=sort_ascending\n",
    "        )[columns_to_print]\n",
    "\n",
    "    print(f\"Total: {len(filtered)}\")\n",
    "    display(HTML(filtered.to_html(escape=False)))"
   ]
  }
 ],
 "metadata": {
  "kernelspec": {
   "display_name": "Python 3 (ipykernel)",
   "language": "python",
   "name": "python3"
  },
  "language_info": {
   "codemirror_mode": {
    "name": "ipython",
    "version": 3
   },
   "file_extension": ".py",
   "mimetype": "text/x-python",
   "name": "python",
   "nbconvert_exporter": "python",
   "pygments_lexer": "ipython3",
   "version": "3.9.7"
  }
 },
 "nbformat": 4,
 "nbformat_minor": 5
}
