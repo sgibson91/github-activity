{
 "cells": [
  {
   "cell_type": "code",
   "execution_count": null,
   "metadata": {},
   "outputs": [],
   "source": [
    "import pandas as pd\n",
    "from IPython.display import HTML, display\n",
    "from ipywidgets import interact\n",
    "\n",
    "pd.set_option(\"display.max_rows\", None)\n",
    "pd.set_option(\"display.max_columns\", None)\n",
    "pd.set_option(\"display.width\", None)\n",
    "pd.set_option(\"display.max_colwidth\", None)\n",
    "\n",
    "cols_to_print = [\"number\", \"title\", \"repository\"]"
   ]
  },
  {
   "cell_type": "code",
   "execution_count": null,
   "metadata": {},
   "outputs": [],
   "source": [
    "df = pd.read_csv(\"github-activity.csv\")\n",
    "\n",
    "cond = [column.startswith(\"Unnamed:\") for column in df.columns]\n",
    "for column in df.columns[cond].tolist():\n",
    "    df.drop(column, axis=1, inplace=True)\n",
    "\n",
    "df = df[df[\"state\"] == \"open\"]\n",
    "issues = df[df[\"pull_request\"] == False]\n",
    "pulls = df[df[\"pull_request\"] == True]\n",
    "\n",
    "issue_repos = [\"All\"] + sorted(issues[\"repo_name\"].unique().tolist())\n",
    "pull_repos = [\"All\"] + sorted(pulls[\"repo_name\"].unique().tolist())\n",
    "sort_columns = [\"updated_at\", \"created_at\", \"repo_name\"]"
   ]
  },
  {
   "cell_type": "markdown",
   "metadata": {},
   "source": [
    "# 🚀 My GitHub Activity Dashboard\n",
    "\n",
    "## 🎯 Issues\n",
    "\n",
    "### ✅ Assigned to Me"
   ]
  },
  {
   "cell_type": "code",
   "execution_count": null,
   "metadata": {},
   "outputs": [],
   "source": [
    "@interact\n",
    "def view_assigned_issues(repo=issue_repos, sort=sort_columns, sort_ascending=False):\n",
    "    if repo == \"All\":\n",
    "        filtered = issues.loc[issues[\"filter\"].str.contains(\"assigned\")].sort_values(\n",
    "            sort, ascending=sort_ascending\n",
    "        )[cols_to_print]\n",
    "    else:\n",
    "        filtered = issues.loc[\n",
    "            (issues[\"filter\"].str.contains(\"assigned\")) & (issues[\"repo_name\"] == repo)\n",
    "        ].sort_values(sort, ascending=sort_ascending)[cols_to_print]\n",
    "\n",
    "    print(f\"Total: {len(filtered)}\")\n",
    "    display(HTML(filtered.to_html(escape=False)))"
   ]
  },
  {
   "cell_type": "markdown",
   "metadata": {},
   "source": [
    "### ✨ Created by Me"
   ]
  },
  {
   "cell_type": "code",
   "execution_count": null,
   "metadata": {},
   "outputs": [],
   "source": [
    "@interact\n",
    "def view_created_issues(repo=issue_repos, sort=sort_columns, sort_ascending=False):\n",
    "    if repo == \"All\":\n",
    "        filtered = issues.loc[issues[\"filter\"].str.contains(\"created\")].sort_values(\n",
    "            sort, ascending=sort_ascending\n",
    "        )[cols_to_print]\n",
    "    else:\n",
    "        filtered = issues.loc[\n",
    "            (issues[\"filter\"].str.contains(\"created\")) & (issues[\"repo_name\"] == repo)\n",
    "        ].sort_values(sort, ascending=sort_ascending)[cols_to_print]\n",
    "\n",
    "    print(f\"Total: {len(filtered)}\")\n",
    "    display(HTML(filtered.to_html(escape=False)))"
   ]
  },
  {
   "cell_type": "markdown",
   "metadata": {},
   "source": [
    "## ➡️ Pull Requests\n",
    "\n",
    "### 👀 To be Reviewed by Me"
   ]
  },
  {
   "cell_type": "code",
   "execution_count": null,
   "metadata": {},
   "outputs": [],
   "source": [
    "@interact\n",
    "def view_rev_req_pulls(repo=pull_repos, sort=sort_columns, sort_ascending=False):\n",
    "    if repo == \"All\":\n",
    "        filtered = pulls.loc[\n",
    "            pulls[\"filter\"].str.contains(\"review_requested\")\n",
    "        ].sort_values(sort, ascending=sort_ascending)[cols_to_print]\n",
    "    else:\n",
    "        filtered = pulls.loc[\n",
    "            (pulls[\"filter\"].str.contains(\"review_requested\"))\n",
    "            & (pulls[\"repo_name\"] == repo)\n",
    "        ].sort_values(sort, ascending=sort_ascending)[cols_to_print]\n",
    "\n",
    "    print(f\"Total: {len(filtered)}\")\n",
    "    display(HTML(filtered.to_html(escape=False)))"
   ]
  },
  {
   "cell_type": "markdown",
   "metadata": {},
   "source": [
    "### ✨ Created by Me"
   ]
  },
  {
   "cell_type": "code",
   "execution_count": null,
   "metadata": {},
   "outputs": [],
   "source": [
    "@interact\n",
    "def view_created_pulls(repo=pull_repos, sort=sort_columns, sort_ascending=False):\n",
    "    if repo == \"All\":\n",
    "        filtered = pulls.loc[pulls[\"filter\"].str.contains(\"created\")].sort_values(\n",
    "            sort, ascending=sort_ascending\n",
    "        )[cols_to_print]\n",
    "    else:\n",
    "        filtered = pulls.loc[\n",
    "            (pulls[\"filter\"].str.contains(\"created\")) & (pulls[\"repo_name\"] == repo)\n",
    "        ].sort_values(sort, ascending=sort_ascending)[cols_to_print]\n",
    "\n",
    "    print(f\"Total: {len(filtered)}\")\n",
    "    display(HTML(filtered.to_html(escape=False)))"
   ]
  },
  {
   "cell_type": "markdown",
   "metadata": {},
   "source": [
    "### ✅ Assigned to Me"
   ]
  },
  {
   "cell_type": "code",
   "execution_count": null,
   "metadata": {},
   "outputs": [],
   "source": [
    "@interact\n",
    "def view_assigned_pulls(repo=pull_repos, sort=sort_columns, sort_ascending=False):\n",
    "    if repo == \"All\":\n",
    "        filtered = pulls.loc[pulls[\"filter\"].str.contains(\"assigned\")].sort_values(\n",
    "            sort, ascending=sort_ascending\n",
    "        )[cols_to_print]\n",
    "    else:\n",
    "        filtered = pulls.loc[\n",
    "            (pulls[\"filter\"].str.contains(\"assigned\")) & (pulls[\"repo_name\"] == repo)\n",
    "        ].sort_values(sort, ascending=sort_ascending)[cols_to_print]\n",
    "\n",
    "    print(f\"Total: {len(filtered)}\")\n",
    "    display(HTML(filtered.to_html(escape=False)))"
   ]
  }
 ],
 "metadata": {
  "interpreter": {
   "hash": "c30f2af5f468e7f5b45bcc30fca5f4886c90d54777aed916ed5f6294dfb24bf2"
  },
  "kernelspec": {
   "display_name": "Python 3 (ipykernel)",
   "language": "python",
   "name": "python3"
  },
  "language_info": {
   "codemirror_mode": {
    "name": "ipython",
    "version": 3
   },
   "file_extension": ".py",
   "mimetype": "text/x-python",
   "name": "python",
   "nbconvert_exporter": "python",
   "pygments_lexer": "ipython3",
   "version": "3.9.7"
  }
 },
 "nbformat": 4,
 "nbformat_minor": 2
}
